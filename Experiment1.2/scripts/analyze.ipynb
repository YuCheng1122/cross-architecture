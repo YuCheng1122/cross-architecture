{
 "cells": [
  {
   "cell_type": "code",
   "execution_count": null,
   "metadata": {},
   "outputs": [],
   "source": [
    "import pandas as pd\n",
    "import glob\n",
    "import os\n",
    "\n",
    "def main():\n",
    "    # 設定存放 CSV 檔案的資料夾路徑，請依需求修改\n",
    "    folder_path = os.path.expanduser('~/cross-architecture/Experiment1.2/scripts/results/compare')\n",
    "    \n",
    "    # 取得資料夾內所有 CSV 檔案的完整路徑\n",
    "    csv_files = glob.glob(os.path.join(folder_path, '*.csv'))\n",
    "    \n",
    "    if not csv_files:\n",
    "        print(\"找不到任何 CSV 檔案，請確認路徑是否正確！\")\n",
    "        return\n",
    "\n",
    "    # 針對每一個 CSV 檔案進行分析\n",
    "    for file in csv_files:\n",
    "        try:\n",
    "            # 讀取 CSV\n",
    "            df = pd.read_csv(file)\n",
    "            # 過濾出 UserDefined 為 1 的資料\n",
    "            filtered_df = df[df['UserDefined'] == 1]\n",
    "            \n",
    "            # 計算平均值\n",
    "            avg_similarity_score = filtered_df['Similarity Score'].mean()\n",
    "            avg_cls_similarity_score = filtered_df['CLS Similarity Score'].mean()\n",
    "            \n",
    "            # 印出結果\n",
    "            print(f\"檔案：{os.path.basename(file)}\")\n",
    "            print(f\"  平均 Similarity Score：{avg_similarity_score}\")\n",
    "            print(f\"  平均 CLS Similarity Score：{avg_cls_similarity_score}\\n\")\n",
    "        except Exception as e:\n",
    "            print(f\"讀取 {file} 發生錯誤：{e}\")\n",
    "\n",
    "if __name__ == '__main__':\n",
    "    main()\n"
   ]
  }
 ],
 "metadata": {
  "kernelspec": {
   "display_name": "cross-architecture",
   "language": "python",
   "name": "python3"
  },
  "language_info": {
   "codemirror_mode": {
    "name": "ipython",
    "version": 3
   },
   "file_extension": ".py",
   "mimetype": "text/x-python",
   "name": "python",
   "nbconvert_exporter": "python",
   "pygments_lexer": "ipython3",
   "version": "3.12.8"
  }
 },
 "nbformat": 4,
 "nbformat_minor": 2
}
